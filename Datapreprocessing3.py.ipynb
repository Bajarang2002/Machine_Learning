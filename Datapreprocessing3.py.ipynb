{
 "cells": [
  {
   "cell_type": "code",
   "execution_count": 6,
   "id": "465b744e",
   "metadata": {},
   "outputs": [],
   "source": [
    "import pandas as pd\n",
    "import numpy as np\n",
    "import matplotlib.pyplot as plt"
   ]
  },
  {
   "cell_type": "code",
   "execution_count": 14,
   "id": "8978d06c",
   "metadata": {},
   "outputs": [
    {
     "data": {
      "text/html": [
       "<div>\n",
       "<style scoped>\n",
       "    .dataframe tbody tr th:only-of-type {\n",
       "        vertical-align: middle;\n",
       "    }\n",
       "\n",
       "    .dataframe tbody tr th {\n",
       "        vertical-align: top;\n",
       "    }\n",
       "\n",
       "    .dataframe thead th {\n",
       "        text-align: right;\n",
       "    }\n",
       "</style>\n",
       "<table border=\"1\" class=\"dataframe\">\n",
       "  <thead>\n",
       "    <tr style=\"text-align: right;\">\n",
       "      <th></th>\n",
       "      <th>Age</th>\n",
       "      <th>Income</th>\n",
       "    </tr>\n",
       "  </thead>\n",
       "  <tbody>\n",
       "    <tr>\n",
       "      <th>0</th>\n",
       "      <td>20</td>\n",
       "      <td>20000</td>\n",
       "    </tr>\n",
       "    <tr>\n",
       "      <th>1</th>\n",
       "      <td>21</td>\n",
       "      <td>35000</td>\n",
       "    </tr>\n",
       "    <tr>\n",
       "      <th>2</th>\n",
       "      <td>22</td>\n",
       "      <td>40000</td>\n",
       "    </tr>\n",
       "    <tr>\n",
       "      <th>3</th>\n",
       "      <td>23</td>\n",
       "      <td>50000</td>\n",
       "    </tr>\n",
       "    <tr>\n",
       "      <th>4</th>\n",
       "      <td>27</td>\n",
       "      <td>60000</td>\n",
       "    </tr>\n",
       "    <tr>\n",
       "      <th>5</th>\n",
       "      <td>25</td>\n",
       "      <td>65000</td>\n",
       "    </tr>\n",
       "    <tr>\n",
       "      <th>6</th>\n",
       "      <td>26</td>\n",
       "      <td>70000</td>\n",
       "    </tr>\n",
       "  </tbody>\n",
       "</table>\n",
       "</div>"
      ],
      "text/plain": [
       "   Age  Income\n",
       "0   20   20000\n",
       "1   21   35000\n",
       "2   22   40000\n",
       "3   23   50000\n",
       "4   27   60000\n",
       "5   25   65000\n",
       "6   26   70000"
      ]
     },
     "execution_count": 14,
     "metadata": {},
     "output_type": "execute_result"
    }
   ],
   "source": [
    "data={'Age':[20,21,22,23,27,25,26],\n",
    "     'Income':[20000,35000,40000,50000,60000,65000,70000]}\n",
    "df=pd.DataFrame(data)\n",
    "df.head(7)"
   ]
  },
  {
   "cell_type": "code",
   "execution_count": 17,
   "id": "eb0704e0",
   "metadata": {},
   "outputs": [],
   "source": [
    "from sklearn.preprocessing import StandardScaler\n"
   ]
  },
  {
   "cell_type": "code",
   "execution_count": 18,
   "id": "251d6ffb",
   "metadata": {},
   "outputs": [
    {
     "data": {
      "text/plain": [
       "array([[-1.40449377, -1.71814712],\n",
       "       [-0.99484975, -0.81611988],\n",
       "       [-0.58520574, -0.51544414],\n",
       "       [-0.17556172,  0.08590736],\n",
       "       [ 1.46301434,  0.68725885],\n",
       "       [ 0.64372631,  0.98793459],\n",
       "       [ 1.05337032,  1.28861034]])"
      ]
     },
     "execution_count": 18,
     "metadata": {},
     "output_type": "execute_result"
    }
   ],
   "source": [
    "sc=StandardScaler()\n",
    "df_std=sc.fit_transform(df)\n",
    "df_std"
   ]
  },
  {
   "cell_type": "code",
   "execution_count": 21,
   "id": "330ac0a1",
   "metadata": {},
   "outputs": [
    {
     "data": {
      "text/plain": [
       "-1.4044937663535662"
      ]
     },
     "execution_count": 21,
     "metadata": {},
     "output_type": "execute_result"
    }
   ],
   "source": [
    "std_20=(20-df['Age'].mean())/df['Age'].std(ddof=0)\n",
    "std_20"
   ]
  },
  {
   "cell_type": "code",
   "execution_count": 22,
   "id": "42f2f857",
   "metadata": {},
   "outputs": [
    {
     "data": {
      "text/plain": [
       "-1.7181471183502313"
      ]
     },
     "execution_count": 22,
     "metadata": {},
     "output_type": "execute_result"
    }
   ],
   "source": [
    "std_20000=(20000-df['Income'].mean())/df['Income'].std(ddof=0)\n",
    "std_20000"
   ]
  },
  {
   "cell_type": "code",
   "execution_count": 24,
   "id": "e956cc30",
   "metadata": {},
   "outputs": [],
   "source": [
    "from sklearn.preprocessing import MinMaxScaler"
   ]
  },
  {
   "cell_type": "code",
   "execution_count": 25,
   "id": "75a41717",
   "metadata": {},
   "outputs": [
    {
     "data": {
      "text/plain": [
       "array([[0.        , 0.        ],\n",
       "       [0.14285714, 0.3       ],\n",
       "       [0.28571429, 0.4       ],\n",
       "       [0.42857143, 0.6       ],\n",
       "       [1.        , 0.8       ],\n",
       "       [0.71428571, 0.9       ],\n",
       "       [0.85714286, 1.        ]])"
      ]
     },
     "execution_count": 25,
     "metadata": {},
     "output_type": "execute_result"
    }
   ],
   "source": [
    "mmsc=MinMaxScaler()\n",
    "df_mmsc=mmsc.fit_transform(df)\n",
    "df_mmsc"
   ]
  },
  {
   "cell_type": "code",
   "execution_count": 26,
   "id": "34844ddc",
   "metadata": {},
   "outputs": [
    {
     "data": {
      "text/plain": [
       "0.14285714285714285"
      ]
     },
     "execution_count": 26,
     "metadata": {},
     "output_type": "execute_result"
    }
   ],
   "source": [
    "mmsc_21=(21-df['Age'].min())/(df['Age'].max()-df['Age'].min())\n",
    "mmsc_21"
   ]
  },
  {
   "cell_type": "code",
   "execution_count": 27,
   "id": "80574a8b",
   "metadata": {},
   "outputs": [
    {
     "ename": "SyntaxError",
     "evalue": "invalid decimal literal (3989509020.py, line 1)",
     "output_type": "error",
     "traceback": [
      "\u001b[1;36m  Cell \u001b[1;32mIn[27], line 1\u001b[1;36m\u001b[0m\n\u001b[1;33m    21_scaled =mmsc_21*(1-0)+0\u001b[0m\n\u001b[1;37m      ^\u001b[0m\n\u001b[1;31mSyntaxError\u001b[0m\u001b[1;31m:\u001b[0m invalid decimal literal\n"
     ]
    }
   ],
   "source": [
    "21_scaled =mmsc_21*(1-0)+0\n",
    "21_scaled"
   ]
  },
  {
   "cell_type": "code",
   "execution_count": 28,
   "id": "7c260e53",
   "metadata": {},
   "outputs": [
    {
     "data": {
      "text/plain": [
       "0.3"
      ]
     },
     "execution_count": 28,
     "metadata": {},
     "output_type": "execute_result"
    }
   ],
   "source": [
    "mmsc_35000=(35000-df['Income'].min())/(df['Income'].max()-df['Income'].min())\n",
    "mmsc_35000"
   ]
  },
  {
   "cell_type": "code",
   "execution_count": null,
   "id": "ee26ecc0",
   "metadata": {},
   "outputs": [],
   "source": []
  },
  {
   "cell_type": "code",
   "execution_count": null,
   "id": "1c6e060f",
   "metadata": {},
   "outputs": [],
   "source": []
  }
 ],
 "metadata": {
  "kernelspec": {
   "display_name": "Python 3 (ipykernel)",
   "language": "python",
   "name": "python3"
  },
  "language_info": {
   "codemirror_mode": {
    "name": "ipython",
    "version": 3
   },
   "file_extension": ".py",
   "mimetype": "text/x-python",
   "name": "python",
   "nbconvert_exporter": "python",
   "pygments_lexer": "ipython3",
   "version": "3.11.3"
  }
 },
 "nbformat": 4,
 "nbformat_minor": 5
}
