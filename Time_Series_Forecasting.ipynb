{
 "cells": [
  {
   "cell_type": "markdown",
   "id": "bccc72ea",
   "metadata": {},
   "source": [
    "### Import the libraries"
   ]
  },
  {
   "cell_type": "code",
   "execution_count": 9,
   "id": "c3d7026d",
   "metadata": {},
   "outputs": [],
   "source": [
    "import numpy as np\n",
    "import pandas as pd\n",
    "import matplotlib.pyplot as plt\n",
    "import seaborn as sns"
   ]
  },
  {
   "cell_type": "markdown",
   "id": "78aa9266",
   "metadata": {},
   "source": [
    "#### Time Series Libraries"
   ]
  },
  {
   "cell_type": "code",
   "execution_count": 7,
   "id": "6eeb4a9a",
   "metadata": {},
   "outputs": [],
   "source": [
    "from statsmodels.tsa.seasonal import seasonal_decompose\n",
    "from statsmodels.tsa.stattools import adfuller\n",
    "from pmdarima.arima import auto_arima  # AIC\n",
    "from statsmodels.graphics.tsaplots import plot_acf, plot_pacf\n",
    "from statsmodels.tsa.arima_model import ARIMA"
   ]
  },
  {
   "cell_type": "code",
   "execution_count": 17,
   "id": "ea3e5243",
   "metadata": {},
   "outputs": [
    {
     "name": "stdout",
     "output_type": "stream",
     "text": [
      "<class 'pandas.core.frame.DataFrame'>\n"
     ]
    },
    {
     "data": {
      "text/html": [
       "<div>\n",
       "<style scoped>\n",
       "    .dataframe tbody tr th:only-of-type {\n",
       "        vertical-align: middle;\n",
       "    }\n",
       "\n",
       "    .dataframe tbody tr th {\n",
       "        vertical-align: top;\n",
       "    }\n",
       "\n",
       "    .dataframe thead th {\n",
       "        text-align: right;\n",
       "    }\n",
       "</style>\n",
       "<table border=\"1\" class=\"dataframe\">\n",
       "  <thead>\n",
       "    <tr style=\"text-align: right;\">\n",
       "      <th></th>\n",
       "      <th>#Passengers</th>\n",
       "    </tr>\n",
       "    <tr>\n",
       "      <th>Month</th>\n",
       "      <th></th>\n",
       "    </tr>\n",
       "  </thead>\n",
       "  <tbody>\n",
       "    <tr>\n",
       "      <th>1949-01-01</th>\n",
       "      <td>112</td>\n",
       "    </tr>\n",
       "    <tr>\n",
       "      <th>1949-02-01</th>\n",
       "      <td>118</td>\n",
       "    </tr>\n",
       "    <tr>\n",
       "      <th>1949-03-01</th>\n",
       "      <td>132</td>\n",
       "    </tr>\n",
       "    <tr>\n",
       "      <th>1949-04-01</th>\n",
       "      <td>129</td>\n",
       "    </tr>\n",
       "    <tr>\n",
       "      <th>1949-05-01</th>\n",
       "      <td>121</td>\n",
       "    </tr>\n",
       "  </tbody>\n",
       "</table>\n",
       "</div>"
      ],
      "text/plain": [
       "            #Passengers\n",
       "Month                  \n",
       "1949-01-01          112\n",
       "1949-02-01          118\n",
       "1949-03-01          132\n",
       "1949-04-01          129\n",
       "1949-05-01          121"
      ]
     },
     "execution_count": 17,
     "metadata": {},
     "output_type": "execute_result"
    }
   ],
   "source": [
    "df = pd.read_csv('AirPassengers.csv',parse_dates=['Month'],index_col=['Month'])\n",
    "#                  ,,parse_dates=['Month'])\n",
    "print(type(df)) \n",
    "df.head() "
   ]
  },
  {
   "cell_type": "code",
   "execution_count": 18,
   "id": "02601c1a",
   "metadata": {},
   "outputs": [
    {
     "data": {
      "text/plain": [
       "#Passengers    int64\n",
       "dtype: object"
      ]
     },
     "execution_count": 18,
     "metadata": {},
     "output_type": "execute_result"
    }
   ],
   "source": [
    "df.dtypes"
   ]
  },
  {
   "cell_type": "code",
   "execution_count": 20,
   "id": "65b2026c",
   "metadata": {},
   "outputs": [
    {
     "data": {
      "text/plain": [
       "(144, 1)"
      ]
     },
     "execution_count": 20,
     "metadata": {},
     "output_type": "execute_result"
    }
   ],
   "source": [
    "df.shape\n",
    "# rows= 144, cols = 1"
   ]
  },
  {
   "cell_type": "code",
   "execution_count": 22,
   "id": "ddb64f17",
   "metadata": {},
   "outputs": [
    {
     "name": "stdout",
     "output_type": "stream",
     "text": [
      "1949-01-01 00:00:00\n",
      "1960-12-01 00:00:00\n"
     ]
    }
   ],
   "source": [
    "print(df.index.min())\n",
    "print(df.index.max())"
   ]
  },
  {
   "cell_type": "markdown",
   "id": "23e4ba83",
   "metadata": {},
   "source": [
    "#### Inference\n",
    "1) Air Passengers data is present from  1Jan-1949 to 1Dec-1960.<br>\n",
    "2) Air Passengers data is present on a monthly basis."
   ]
  },
  {
   "cell_type": "markdown",
   "id": "ea50886e",
   "metadata": {},
   "source": [
    "#### Handle Null Values"
   ]
  },
  {
   "cell_type": "code",
   "execution_count": 23,
   "id": "2beb876b",
   "metadata": {},
   "outputs": [
    {
     "data": {
      "text/plain": [
       "#Passengers    0\n",
       "dtype: int64"
      ]
     },
     "execution_count": 23,
     "metadata": {},
     "output_type": "execute_result"
    }
   ],
   "source": [
    "df.isnull().sum()"
   ]
  },
  {
   "cell_type": "markdown",
   "id": "66c7a758",
   "metadata": {},
   "source": [
    "#### Handle duplicates"
   ]
  },
  {
   "cell_type": "code",
   "execution_count": 26,
   "id": "8201b09a",
   "metadata": {},
   "outputs": [
    {
     "data": {
      "text/plain": [
       "26"
      ]
     },
     "execution_count": 26,
     "metadata": {},
     "output_type": "execute_result"
    }
   ],
   "source": [
    "df.duplicated(['#Passengers']).sum()"
   ]
  },
  {
   "cell_type": "markdown",
   "id": "d23a1079",
   "metadata": {},
   "source": [
    "#### Inference\n",
    "Duplicate values in Data points alone should NOT be removed."
   ]
  },
  {
   "cell_type": "code",
   "execution_count": 28,
   "id": "34ee01ff",
   "metadata": {},
   "outputs": [
    {
     "data": {
      "text/plain": [
       "0"
      ]
     },
     "execution_count": 28,
     "metadata": {},
     "output_type": "execute_result"
    }
   ],
   "source": [
    "df.index.duplicated().sum()\n",
    "# Date values have no duplicates"
   ]
  },
  {
   "cell_type": "code",
   "execution_count": 29,
   "id": "290cae93",
   "metadata": {},
   "outputs": [
    {
     "name": "stdout",
     "output_type": "stream",
     "text": [
      "1949-01-01 00:00:00\n",
      "1960-12-01 00:00:00\n"
     ]
    }
   ],
   "source": [
    "print(df.index.min())\n",
    "print(df.index.max())"
   ]
  },
  {
   "cell_type": "code",
   "execution_count": 33,
   "id": "cd2a1539",
   "metadata": {},
   "outputs": [
    {
     "data": {
      "text/plain": [
       "DatetimeIndex(['1949-01-01', '1949-02-01', '1949-03-01', '1949-04-01',\n",
       "               '1949-05-01', '1949-06-01', '1949-07-01', '1949-08-01',\n",
       "               '1949-09-01', '1949-10-01',\n",
       "               ...\n",
       "               '1960-03-01', '1960-04-01', '1960-05-01', '1960-06-01',\n",
       "               '1960-07-01', '1960-08-01', '1960-09-01', '1960-10-01',\n",
       "               '1960-11-01', '1960-12-01'],\n",
       "              dtype='datetime64[ns]', length=144, freq='MS')"
      ]
     },
     "execution_count": 33,
     "metadata": {},
     "output_type": "execute_result"
    }
   ],
   "source": [
    "d1 = pd.date_range(start='1949-01-01',end='1960-12-01',freq='MS')  # MS = Month Start\n",
    "d1"
   ]
  },
  {
   "cell_type": "code",
   "execution_count": 35,
   "id": "d28c180d",
   "metadata": {},
   "outputs": [
    {
     "data": {
      "text/plain": [
       "DatetimeIndex(['1949-01-01', '1949-01-02', '1949-01-03', '1949-01-04',\n",
       "               '1949-01-05', '1949-01-06', '1949-01-07', '1949-01-08',\n",
       "               '1949-01-09', '1949-01-10',\n",
       "               ...\n",
       "               '1949-11-22', '1949-11-23', '1949-11-24', '1949-11-25',\n",
       "               '1949-11-26', '1949-11-27', '1949-11-28', '1949-11-29',\n",
       "               '1949-11-30', '1949-12-01'],\n",
       "              dtype='datetime64[ns]', length=335, freq='D')"
      ]
     },
     "execution_count": 35,
     "metadata": {},
     "output_type": "execute_result"
    }
   ],
   "source": [
    "d2 = pd.date_range(start='1949-01-01',end='1949-12-01',freq='D')  # D = Day\n",
    "d2"
   ]
  },
  {
   "cell_type": "code",
   "execution_count": null,
   "id": "77b3edc3",
   "metadata": {},
   "outputs": [],
   "source": [
    "# freq = 'MS', 'YS', \"QS\""
   ]
  },
  {
   "cell_type": "code",
   "execution_count": 31,
   "id": "9ffa0a5a",
   "metadata": {},
   "outputs": [
    {
     "name": "stdout",
     "output_type": "stream",
     "text": [
      "[ True  True  True  True  True  True  True  True  True  True  True  True\n",
      "  True  True  True  True  True  True  True  True  True  True  True  True\n",
      "  True  True  True  True  True  True  True  True  True  True  True  True\n",
      "  True  True  True  True  True  True  True  True  True  True  True  True\n",
      "  True  True  True  True  True  True  True  True  True  True  True  True\n",
      "  True  True  True  True  True  True  True  True  True  True  True  True\n",
      "  True  True  True  True  True  True  True  True  True  True  True  True\n",
      "  True  True  True  True  True  True  True  True  True  True  True  True\n",
      "  True  True  True  True  True  True  True  True  True  True  True  True\n",
      "  True  True  True  True  True  True  True  True  True  True  True  True\n",
      "  True  True  True  True  True  True  True  True  True  True  True  True\n",
      "  True  True  True  True  True  True  True  True  True  True  True  True]\n"
     ]
    }
   ],
   "source": [
    "res = df.index == d1\n",
    "print(res)"
   ]
  },
  {
   "cell_type": "markdown",
   "id": "f77461d9",
   "metadata": {},
   "source": [
    "#### Time Series data\n",
    "1)Univariate - Date wise Sales => Target variable => Sales, independent feature = Date\n",
    "\n",
    "2) Multivaraite - Date, Sales, Prod, Discount etc <br>\n",
    "Target variable => Sales, Independent feature = Date, Prod, Discount\n"
   ]
  },
  {
   "cell_type": "code",
   "execution_count": null,
   "id": "37b4c325",
   "metadata": {},
   "outputs": [],
   "source": [
    "#### \n",
    "# Date   Sales\n",
    "# Jan    780\n",
    "# Feb    815\n",
    "# Mar    820\n",
    "# Apr    805\n",
    "# May    834\n",
    "# Jun     ?"
   ]
  },
  {
   "cell_type": "markdown",
   "id": "d7d77d57",
   "metadata": {},
   "source": [
    "#### Properties of Time Series data\n",
    "\n",
    "1) Data should be autocorrelated.(present value is dependent on its past values)<br>\n",
    "2) There should be no null values.<br>\n",
    "3) Data should be sequentially indexed with time. Data should be present in dataframe such that date column is set as index and the data values should be present as single column(for Univariate analysis)<br>\n",
    "4) Date value should be arranged in acsending order.<br>\n"
   ]
  },
  {
   "cell_type": "code",
   "execution_count": null,
   "id": "04bc5e89",
   "metadata": {},
   "outputs": [],
   "source": []
  },
  {
   "cell_type": "markdown",
   "id": "e60ba65c",
   "metadata": {},
   "source": [
    "### Components of Time Series data\n",
    "\n",
    "#### Trend \n",
    "Overall if data values increases with time(Uptrend) and if data values decreaes with time(downtrend)\n",
    "\n",
    "\n",
    "#### Seasonality \n",
    "Periodic fluctuations in the data values.\n",
    "\n",
    "#### Noise / Irregular components/ Residual\n",
    "Irregular components are those components of time series data which cant be explained by trend and or seasonality. They dont follow any pattern.\n",
    "\n",
    "\n",
    "\n",
    "#### Stationary data\n",
    "<pre>\n",
    "Stationary Time Series data implies\n",
    "1) Constant Mean\n",
    "2) Constant Variance\n",
    "3) Minimal Trend and/or seasonality\n",
    "</pre>"
   ]
  },
  {
   "cell_type": "markdown",
   "id": "1805117c",
   "metadata": {},
   "source": [
    "#### Test for Stationarity - ADF Test (Hypothesis test)\n",
    "<pre>\n",
    "ADF Test - Augmented Dickey Fuller Test\n",
    "Ho : Data is not stationary\n",
    "H1 : Data is stationary    \n",
    "\n",
    "ADF Test returns test_stat value and p-val:\n",
    "alpha = 0.05 (significance level)\n",
    "a) pval>0.05 => Ho is accepted (Data is not Stationary)\n",
    "b) pval<=0.05 => H1 is accepted (Data is Stationary)\n",
    "</pre>\n"
   ]
  },
  {
   "cell_type": "markdown",
   "id": "22a984fd",
   "metadata": {},
   "source": [
    "#### Methods to make data Stationary\n",
    "<pre>\n",
    "1) Differencing\n",
    "2) Log\n",
    "3) Sqr, Sqrt\n",
    "4) Log Differencing\n",
    "etc\n",
    "</pre>"
   ]
  },
  {
   "cell_type": "code",
   "execution_count": 36,
   "id": "fda8726e",
   "metadata": {},
   "outputs": [
    {
     "data": {
      "text/html": [
       "<div>\n",
       "<style scoped>\n",
       "    .dataframe tbody tr th:only-of-type {\n",
       "        vertical-align: middle;\n",
       "    }\n",
       "\n",
       "    .dataframe tbody tr th {\n",
       "        vertical-align: top;\n",
       "    }\n",
       "\n",
       "    .dataframe thead th {\n",
       "        text-align: right;\n",
       "    }\n",
       "</style>\n",
       "<table border=\"1\" class=\"dataframe\">\n",
       "  <thead>\n",
       "    <tr style=\"text-align: right;\">\n",
       "      <th></th>\n",
       "      <th>#Passengers</th>\n",
       "    </tr>\n",
       "    <tr>\n",
       "      <th>Month</th>\n",
       "      <th></th>\n",
       "    </tr>\n",
       "  </thead>\n",
       "  <tbody>\n",
       "    <tr>\n",
       "      <th>1949-01-01</th>\n",
       "      <td>112</td>\n",
       "    </tr>\n",
       "    <tr>\n",
       "      <th>1949-02-01</th>\n",
       "      <td>118</td>\n",
       "    </tr>\n",
       "    <tr>\n",
       "      <th>1949-03-01</th>\n",
       "      <td>132</td>\n",
       "    </tr>\n",
       "    <tr>\n",
       "      <th>1949-04-01</th>\n",
       "      <td>129</td>\n",
       "    </tr>\n",
       "    <tr>\n",
       "      <th>1949-05-01</th>\n",
       "      <td>121</td>\n",
       "    </tr>\n",
       "  </tbody>\n",
       "</table>\n",
       "</div>"
      ],
      "text/plain": [
       "            #Passengers\n",
       "Month                  \n",
       "1949-01-01          112\n",
       "1949-02-01          118\n",
       "1949-03-01          132\n",
       "1949-04-01          129\n",
       "1949-05-01          121"
      ]
     },
     "execution_count": 36,
     "metadata": {},
     "output_type": "execute_result"
    }
   ],
   "source": [
    "df.head()"
   ]
  },
  {
   "cell_type": "code",
   "execution_count": 37,
   "id": "80982337",
   "metadata": {},
   "outputs": [
    {
     "data": {
      "image/png": "[encoded data removed]",
      "text/plain": [
       "<Figure size 640x480 with 1 Axes>"
      ]
     },
     "metadata": {},
     "output_type": "display_data"
    }
   ],
   "source": [
    "df.plot()\n",
    "plt.show()"
   ]
  },
  {
   "cell_type": "markdown",
   "id": "35df6423",
   "metadata": {},
   "source": [
    "### Decomposing Time Series Data\n",
    "\n",
    "Additive Decomposition<br>\n",
    "Yt = Trend + Seasonality + Noise <br>\n",
    "\n",
    "Multiplicative Decomposition<br>\n",
    "Yt = Trend * Seasonality * Noise<br>"
   ]
  },
  {
   "cell_type": "code",
   "execution_count": 39,
   "id": "49225ac3",
   "metadata": {},
   "outputs": [],
   "source": [
    "from statsmodels.tsa.seasonal import seasonal_decompose"
   ]
  },
  {
   "cell_type": "code",
   "execution_count": 45,
   "id": "d94170ee",
   "metadata": {},
   "outputs": [
    {
     "data": {
      "image/png": "[encoded data removed]",
      "text/plain": [
       "<Figure size 1000x600 with 1 Axes>"
      ]
     },
     "metadata": {},
     "output_type": "display_data"
    }
   ],
   "source": [
    "decom = seasonal_decompose(df, model='additive')\n",
    "\n",
    "original = decom.observed\n",
    "trend = decom.trend\n",
    "seasonal = decom.seasonal\n",
    "noise = decom.resid\n",
    "\n",
    "plt.figure(figsize=(10,6))\n",
    "plt.plot(original,label='Original')\n",
    "plt.plot(trend,label='Trend')\n",
    "plt.plot(seasonal,label='Seaosnal')\n",
    "plt.plot(noise,label='Noise')\n",
    "plt.title('Additive Decomposition')\n",
    "plt.legend()\n",
    "plt.show()"
   ]
  },
  {
   "cell_type": "markdown",
   "id": "1f0a6a68",
   "metadata": {},
   "source": [
    "#### Infernence\n",
    "\n",
    "Data Contains trend and seasonal patterns"
   ]
  },
  {
   "cell_type": "markdown",
   "id": "7932ab0c",
   "metadata": {},
   "source": [
    "#### ADF Test - test for Stationary"
   ]
  },
  {
   "cell_type": "code",
   "execution_count": 46,
   "id": "a92bc5e8",
   "metadata": {},
   "outputs": [],
   "source": [
    "from statsmodels.tsa.stattools import adfuller"
   ]
  },
  {
   "cell_type": "code",
   "execution_count": 55,
   "id": "3be86d98",
   "metadata": {},
   "outputs": [],
   "source": [
    "def adf_test(data):\n",
    "    res = adfuller(data)\n",
    "    print('Test_stat',res[0])\n",
    "    print('p-val',res[1])\n",
    "    alpha = 0.05\n",
    "    if res[1]>alpha:\n",
    "        print('Ho is accepted : Data is not stationary')\n",
    "    else:\n",
    "        print('H1 is accepted : Data is stationary')\n",
    "#     print(res)"
   ]
  },
  {
   "cell_type": "code",
   "execution_count": 56,
   "id": "29842306",
   "metadata": {},
   "outputs": [
    {
     "name": "stdout",
     "output_type": "stream",
     "text": [
      "Test_stat 0.8153688792060482\n",
      "p-val 0.991880243437641\n",
      "Ho is accepted : Data is not stationary\n"
     ]
    }
   ],
   "source": [
    "adf_test(df)"
   ]
  },
  {
   "cell_type": "code",
   "execution_count": 57,
   "id": "ecab3e9b",
   "metadata": {},
   "outputs": [
    {
     "name": "stdout",
     "output_type": "stream",
     "text": [
      "Test_stat -1.7170170891069607\n",
      "p-val 0.42236677477039125\n",
      "Ho is accepted : Data is not stationary\n"
     ]
    }
   ],
   "source": [
    "adf_test(np.log(df))"
   ]
  },
  {
   "cell_type": "code",
   "execution_count": 58,
   "id": "baee554d",
   "metadata": {},
   "outputs": [
    {
     "name": "stdout",
     "output_type": "stream",
     "text": [
      "Test_stat -0.34585376771567355\n",
      "p-val 0.918754321761837\n",
      "Ho is accepted : Data is not stationary\n"
     ]
    }
   ],
   "source": [
    "adf_test(np.sqrt(df))"
   ]
  },
  {
   "cell_type": "code",
   "execution_count": 59,
   "id": "7cf0e078",
   "metadata": {},
   "outputs": [
    {
     "name": "stdout",
     "output_type": "stream",
     "text": [
      "Test_stat -0.810035072218635\n",
      "p-val 0.8161565539700508\n",
      "Ho is accepted : Data is not stationary\n"
     ]
    }
   ],
   "source": [
    "adf_test(np.cbrt(df))"
   ]
  },
  {
   "cell_type": "code",
   "execution_count": 60,
   "id": "0f06092a",
   "metadata": {},
   "outputs": [
    {
     "name": "stdout",
     "output_type": "stream",
     "text": [
      "Test_stat -2.8292668241699994\n",
      "p-val 0.0542132902838255\n",
      "Ho is accepted : Data is not stationary\n"
     ]
    }
   ],
   "source": [
    "adf_test(df.diff(1).dropna())"
   ]
  },
  {
   "cell_type": "code",
   "execution_count": 61,
   "id": "9b366789",
   "metadata": {},
   "outputs": [
    {
     "name": "stdout",
     "output_type": "stream",
     "text": [
      "Test_stat -2.9616951355554244\n",
      "p-val 0.03862975767698839\n",
      "H1 is accepted : Data is stationary\n"
     ]
    }
   ],
   "source": [
    "adf_test(df.diff(2).dropna())"
   ]
  },
  {
   "cell_type": "code",
   "execution_count": 73,
   "id": "127a75e4",
   "metadata": {},
   "outputs": [
    {
     "name": "stdout",
     "output_type": "stream",
     "text": [
      "Test_stat -3.167907375288738\n",
      "p-val 0.021919114564039218\n",
      "H1 is accepted : Data is stationary\n"
     ]
    }
   ],
   "source": [
    "adf_test(np.log(df).diff(2).dropna())"
   ]
  },
  {
   "cell_type": "code",
   "execution_count": 74,
   "id": "a9c997f9",
   "metadata": {},
   "outputs": [
    {
     "name": "stdout",
     "output_type": "stream",
     "text": [
      "Test_stat -16.384231542468505\n",
      "p-val 2.7328918500142407e-29\n",
      "H1 is accepted : Data is stationary\n"
     ]
    }
   ],
   "source": [
    "adf_test(df.diff().diff().dropna())"
   ]
  },
  {
   "cell_type": "code",
   "execution_count": 62,
   "id": "040ce5cf",
   "metadata": {},
   "outputs": [],
   "source": [
    "df1 = df.copy()"
   ]
  },
  {
   "cell_type": "code",
   "execution_count": 65,
   "id": "aa3325c0",
   "metadata": {},
   "outputs": [
    {
     "data": {
      "text/html": [
       "<div>\n",
       "<style scoped>\n",
       "    .dataframe tbody tr th:only-of-type {\n",
       "        vertical-align: middle;\n",
       "    }\n",
       "\n",
       "    .dataframe tbody tr th {\n",
       "        vertical-align: top;\n",
       "    }\n",
       "\n",
       "    .dataframe thead th {\n",
       "        text-align: right;\n",
       "    }\n",
       "</style>\n",
       "<table border=\"1\" class=\"dataframe\">\n",
       "  <thead>\n",
       "    <tr style=\"text-align: right;\">\n",
       "      <th></th>\n",
       "      <th>#Passengers</th>\n",
       "    </tr>\n",
       "    <tr>\n",
       "      <th>Month</th>\n",
       "      <th></th>\n",
       "    </tr>\n",
       "  </thead>\n",
       "  <tbody>\n",
       "    <tr>\n",
       "      <th>1949-01-01</th>\n",
       "      <td>112</td>\n",
       "    </tr>\n",
       "    <tr>\n",
       "      <th>1949-02-01</th>\n",
       "      <td>118</td>\n",
       "    </tr>\n",
       "    <tr>\n",
       "      <th>1949-03-01</th>\n",
       "      <td>132</td>\n",
       "    </tr>\n",
       "    <tr>\n",
       "      <th>1949-04-01</th>\n",
       "      <td>129</td>\n",
       "    </tr>\n",
       "    <tr>\n",
       "      <th>1949-05-01</th>\n",
       "      <td>121</td>\n",
       "    </tr>\n",
       "  </tbody>\n",
       "</table>\n",
       "</div>"
      ],
      "text/plain": [
       "            #Passengers\n",
       "Month                  \n",
       "1949-01-01          112\n",
       "1949-02-01          118\n",
       "1949-03-01          132\n",
       "1949-04-01          129\n",
       "1949-05-01          121"
      ]
     },
     "execution_count": 65,
     "metadata": {},
     "output_type": "execute_result"
    }
   ],
   "source": [
    "df1.head()"
   ]
  },
  {
   "cell_type": "code",
   "execution_count": 70,
   "id": "43e497a1",
   "metadata": {},
   "outputs": [
    {
     "data": {
      "text/html": [
       "<div>\n",
       "<style scoped>\n",
       "    .dataframe tbody tr th:only-of-type {\n",
       "        vertical-align: middle;\n",
       "    }\n",
       "\n",
       "    .dataframe tbody tr th {\n",
       "        vertical-align: top;\n",
       "    }\n",
       "\n",
       "    .dataframe thead th {\n",
       "        text-align: right;\n",
       "    }\n",
       "</style>\n",
       "<table border=\"1\" class=\"dataframe\">\n",
       "  <thead>\n",
       "    <tr style=\"text-align: right;\">\n",
       "      <th></th>\n",
       "      <th>#Passengers</th>\n",
       "      <th>Lag1</th>\n",
       "      <th>Lag2</th>\n",
       "      <th>Diff1</th>\n",
       "      <th>Diff2</th>\n",
       "    </tr>\n",
       "    <tr>\n",
       "      <th>Month</th>\n",
       "      <th></th>\n",
       "      <th></th>\n",
       "      <th></th>\n",
       "      <th></th>\n",
       "      <th></th>\n",
       "    </tr>\n",
       "  </thead>\n",
       "  <tbody>\n",
       "    <tr>\n",
       "      <th>1949-01-01</th>\n",
       "      <td>112</td>\n",
       "      <td>NaN</td>\n",
       "      <td>NaN</td>\n",
       "      <td>NaN</td>\n",
       "      <td>NaN</td>\n",
       "    </tr>\n",
       "    <tr>\n",
       "      <th>1949-02-01</th>\n",
       "      <td>118</td>\n",
       "      <td>112.0</td>\n",
       "      <td>NaN</td>\n",
       "      <td>6.0</td>\n",
       "      <td>NaN</td>\n",
       "    </tr>\n",
       "    <tr>\n",
       "      <th>1949-03-01</th>\n",
       "      <td>132</td>\n",
       "      <td>118.0</td>\n",
       "      <td>112.0</td>\n",
       "      <td>14.0</td>\n",
       "      <td>20.0</td>\n",
       "    </tr>\n",
       "    <tr>\n",
       "      <th>1949-04-01</th>\n",
       "      <td>129</td>\n",
       "      <td>132.0</td>\n",
       "      <td>118.0</td>\n",
       "      <td>-3.0</td>\n",
       "      <td>11.0</td>\n",
       "    </tr>\n",
       "    <tr>\n",
       "      <th>1949-05-01</th>\n",
       "      <td>121</td>\n",
       "      <td>129.0</td>\n",
       "      <td>132.0</td>\n",
       "      <td>-8.0</td>\n",
       "      <td>-11.0</td>\n",
       "    </tr>\n",
       "  </tbody>\n",
       "</table>\n",
       "</div>"
      ],
      "text/plain": [
       "            #Passengers   Lag1   Lag2  Diff1  Diff2\n",
       "Month                                              \n",
       "1949-01-01          112    NaN    NaN    NaN    NaN\n",
       "1949-02-01          118  112.0    NaN    6.0    NaN\n",
       "1949-03-01          132  118.0  112.0   14.0   20.0\n",
       "1949-04-01          129  132.0  118.0   -3.0   11.0\n",
       "1949-05-01          121  129.0  132.0   -8.0  -11.0"
      ]
     },
     "execution_count": 70,
     "metadata": {},
     "output_type": "execute_result"
    }
   ],
   "source": [
    "df1['Lag1']  = df1['#Passengers'].shift(1)\n",
    "df1['Lag2']  = df1['#Passengers'].shift(2)\n",
    "df1['Diff1']  = df1['#Passengers'].diff(1)  # #Passengers - Lag1\n",
    "df1['Diff2']  = df1['#Passengers'].diff(2)  # #Passengers - Lag2\n",
    "df1.head()"
   ]
  },
  {
   "cell_type": "markdown",
   "id": "6e11b1c7",
   "metadata": {},
   "source": [
    "#### Split data into train and test"
   ]
  },
  {
   "cell_type": "code",
   "execution_count": 75,
   "id": "d8c5f050",
   "metadata": {},
   "outputs": [
    {
     "data": {
      "text/plain": [
       "(144, 1)"
      ]
     },
     "execution_count": 75,
     "metadata": {},
     "output_type": "execute_result"
    }
   ],
   "source": [
    "df.shape"
   ]
  },
  {
   "cell_type": "code",
   "execution_count": 76,
   "id": "bc55468d",
   "metadata": {},
   "outputs": [
    {
     "name": "stdout",
     "output_type": "stream",
     "text": [
      "(114, 1)\n",
      "(30, 1)\n"
     ]
    }
   ],
   "source": [
    "train = df.iloc[:114]\n",
    "test = df.iloc[114:]\n",
    "print(train.shape)\n",
    "print(test.shape)"
   ]
  },
  {
   "cell_type": "code",
   "execution_count": 78,
   "id": "ea1714bc",
   "metadata": {},
   "outputs": [
    {
     "name": "stdout",
     "output_type": "stream",
     "text": [
      "            #Passengers\n",
      "Month                  \n",
      "1958-05-01          363\n",
      "1958-06-01          435\n",
      "            #Passengers\n",
      "Month                  \n",
      "1958-07-01          491\n",
      "1958-08-01          505\n"
     ]
    }
   ],
   "source": [
    "print(train.tail(2))\n",
    "print(test.head(2))"
   ]
  },
  {
   "cell_type": "code",
   "execution_count": 80,
   "id": "031e759a",
   "metadata": {},
   "outputs": [
    {
     "data": {
      "image/png": "[encoded data removed]",
      "text/plain": [
       "<Figure size 640x480 with 1 Axes>"
      ]
     },
     "metadata": {},
     "output_type": "display_data"
    }
   ],
   "source": [
    "plt.plot(train,color='blue',label='Train')\n",
    "plt.plot(test,color='orange',label='Test')\n",
    "plt.legend\n",
    "plt.legend()\n",
    "plt.show()"
   ]
  },
  {
   "cell_type": "markdown",
   "id": "df28a597",
   "metadata": {},
   "source": [
    "### ARIMA - Auto Regreesive Integrated Moving Average\n",
    "AR(Auto Regressive), I(Integrated) and MA(Moving Average)\n",
    "\n",
    "p - Can be obtained from PACF(Partial Auto Correlation Function) plot<br>\n",
    "d - d is the order of differencing (i.e. d=2)<br>\n",
    "q - Can be obtained from ACF(Auto Correlation Function) plot<br>\n",
    "\n",
    "p is the order of the Auto Regressive (AR) term. It refers to the number of lags of Y to be used as predictors. And q is the order of the Moving Average (MA) term. It refers to the number of lagged forecast errors that should go into the ARIMA Model.\n",
    "\n",
    "I(d) Integration – It uses differencing of observations (subtracting an observation from observation at the previous time step) in order to make the time series stationary. Differencing involves the subtraction of the current values of a series with its previous values d number of times. For a stationary time series, d=0.\n",
    " \n",
    "q is the order of (MA model), where Yt depends only on the lagged forecast errors.\n",
    " \n",
    "ARIMA model can be summarised as :\n",
    "Predicted Yt = Constant + Linear combination Lags of Y (upto p lags) + Linear Combination of Lagged forecast errors (upto q lags)"
   ]
  },
  {
   "cell_type": "code",
   "execution_count": 81,
   "id": "c7b6446b",
   "metadata": {},
   "outputs": [],
   "source": [
    "# AR Model(p=4) => \n",
    "# Sales_Nov = c + m1*Sales_Oct + m2*Sales_Sep + m3*Sales_Aug + m4*Sales_July + et\n",
    "# et is the error term (lagged forecast errors)\n",
    "\n",
    "# MA Model(q=3)\n",
    "# Sales_Nov = c + w1*et_Oct + w2*et_Sep + w3*et_Aug \n",
    "\n",
    "# ARMA Model (p=2,d=0,q=2)\n",
    "\n",
    "# ARIMA Model (p,d,q)\n",
    "\n",
    "\n",
    "# AR(p=1,d=0,q=0)\n",
    "# MA(p=0,d=0,q=1)\n",
    "# ARMA(p=1,d=0,q=1)\n",
    "# ARIMA(p=1,d=1,q=1)\n",
    "\n"
   ]
  },
  {
   "cell_type": "markdown",
   "id": "1c003a5a",
   "metadata": {},
   "source": [
    "#### Craete Function to Evalaute model"
   ]
  },
  {
   "cell_type": "code",
   "execution_count": 83,
   "id": "953bef9e",
   "metadata": {},
   "outputs": [],
   "source": [
    "from sklearn.metrics import mean_squared_error,mean_absolute_error"
   ]
  },
  {
   "cell_type": "code",
   "execution_count": 86,
   "id": "e938d64a",
   "metadata": {},
   "outputs": [],
   "source": [
    "def eval_model(ytest,ypred,mname):\n",
    "    mae = mean_absolute_error(ytest,ypred)\n",
    "    mse = mean_squared_error(ytest,ypred)\n",
    "    rmse = np.sqrt(mse)\n",
    "    res = pd.DataFrame({'MAE':mae,'MSE':mse,'RMSE':rmse},index=[mname])\n",
    "    return res\n",
    "\n",
    "def plot_results(ypred):\n",
    "    plt.plot(train,color='blue',label='Train')\n",
    "    plt.plot(test,color='orange',label='Test')\n",
    "    plt.plot(ypred,color='green',label='Fcast')\n",
    "    plt.legend()\n",
    "    plt.show()\n",
    "    \n"
   ]
  },
  {
   "cell_type": "markdown",
   "id": "1d6aa552",
   "metadata": {},
   "source": [
    "#### ARIMA (p,d,q)"
   ]
  },
  {
   "cell_type": "code",
   "execution_count": 89,
   "id": "fd423850",
   "metadata": {},
   "outputs": [],
   "source": [
    "from statsmodels.tsa.arima.model import ARIMA"
   ]
  },
  {
   "cell_type": "code",
   "execution_count": 93,
   "id": "f92f891d",
   "metadata": {},
   "outputs": [],
   "source": [
    "import warnings\n",
    "warnings.filterwarnings('ignore')"
   ]
  },
  {
   "cell_type": "markdown",
   "id": "398089b8",
   "metadata": {},
   "source": [
    "### 1) AR(1,0,0)"
   ]
  },
  {
   "cell_type": "code",
   "execution_count": 94,
   "id": "9a169296",
   "metadata": {},
   "outputs": [
    {
     "data": {
      "text/html": [
       "<table class=\"simpletable\">\n",
       "<caption>SARIMAX Results</caption>\n",
       "<tr>\n",
       "  <th>Dep. Variable:</th>      <td>#Passengers</td>   <th>  No. Observations:  </th>    <td>114</td>  \n",
       "</tr>\n",
       "<tr>\n",
       "  <th>Model:</th>            <td>ARIMA(1, 0, 0)</td>  <th>  Log Likelihood     </th> <td>-536.329</td>\n",
       "</tr>\n",
       "<tr>\n",
       "  <th>Date:</th>            <td>Sat, 14 Oct 2023</td> <th>  AIC                </th> <td>1078.658</td>\n",
       "</tr>\n",
       "<tr>\n",
       "  <th>Time:</th>                <td>11:42:46</td>     <th>  BIC                </th> <td>1086.867</td>\n",
       "</tr>\n",
       "<tr>\n",
       "  <th>Sample:</th>             <td>01-01-1949</td>    <th>  HQIC               </th> <td>1081.989</td>\n",
       "</tr>\n",
       "<tr>\n",
       "  <th></th>                   <td>- 06-01-1958</td>   <th>                     </th>     <td> </td>   \n",
       "</tr>\n",
       "<tr>\n",
       "  <th>Covariance Type:</th>        <td>opg</td>       <th>                     </th>     <td> </td>   \n",
       "</tr>\n",
       "</table>\n",
       "<table class=\"simpletable\">\n",
       "<tr>\n",
       "     <td></td>       <th>coef</th>     <th>std err</th>      <th>z</th>      <th>P>|z|</th>  <th>[0.025</th>    <th>0.975]</th>  \n",
       "</tr>\n",
       "<tr>\n",
       "  <th>const</th>  <td>  250.9824</td> <td>   62.897</td> <td>    3.990</td> <td> 0.000</td> <td>  127.706</td> <td>  374.259</td>\n",
       "</tr>\n",
       "<tr>\n",
       "  <th>ar.L1</th>  <td>    0.9708</td> <td>    0.026</td> <td>   37.853</td> <td> 0.000</td> <td>    0.921</td> <td>    1.021</td>\n",
       "</tr>\n",
       "<tr>\n",
       "  <th>sigma2</th> <td>  696.6931</td> <td>   94.142</td> <td>    7.400</td> <td> 0.000</td> <td>  512.179</td> <td>  881.207</td>\n",
       "</tr>\n",
       "</table>\n",
       "<table class=\"simpletable\">\n",
       "<tr>\n",
       "  <th>Ljung-Box (L1) (Q):</th>     <td>6.75</td> <th>  Jarque-Bera (JB):  </th> <td>1.99</td>\n",
       "</tr>\n",
       "<tr>\n",
       "  <th>Prob(Q):</th>                <td>0.01</td> <th>  Prob(JB):          </th> <td>0.37</td>\n",
       "</tr>\n",
       "<tr>\n",
       "  <th>Heteroskedasticity (H):</th> <td>5.91</td> <th>  Skew:              </th> <td>0.32</td>\n",
       "</tr>\n",
       "<tr>\n",
       "  <th>Prob(H) (two-sided):</th>    <td>0.00</td> <th>  Kurtosis:          </th> <td>2.95</td>\n",
       "</tr>\n",
       "</table><br/><br/>Warnings:<br/>[1] Covariance matrix calculated using the outer product of gradients (complex-step)."
      ],
      "text/plain": [
       "<class 'statsmodels.iolib.summary.Summary'>\n",
       "\"\"\"\n",
       "                               SARIMAX Results                                \n",
       "==============================================================================\n",
       "Dep. Variable:            #Passengers   No. Observations:                  114\n",
       "Model:                 ARIMA(1, 0, 0)   Log Likelihood                -536.329\n",
       "Date:                Sat, 14 Oct 2023   AIC                           1078.658\n",
       "Time:                        11:42:46   BIC                           1086.867\n",
       "Sample:                    01-01-1949   HQIC                          1081.989\n",
       "                         - 06-01-1958                                         \n",
       "Covariance Type:                  opg                                         \n",
       "==============================================================================\n",
       "                 coef    std err          z      P>|z|      [0.025      0.975]\n",
       "------------------------------------------------------------------------------\n",
       "const        250.9824     62.897      3.990      0.000     127.706     374.259\n",
       "ar.L1          0.9708      0.026     37.853      0.000       0.921       1.021\n",
       "sigma2       696.6931     94.142      7.400      0.000     512.179     881.207\n",
       "===================================================================================\n",
       "Ljung-Box (L1) (Q):                   6.75   Jarque-Bera (JB):                 1.99\n",
       "Prob(Q):                              0.01   Prob(JB):                         0.37\n",
       "Heteroskedasticity (H):               5.91   Skew:                             0.32\n",
       "Prob(H) (two-sided):                  0.00   Kurtosis:                         2.95\n",
       "===================================================================================\n",
       "\n",
       "Warnings:\n",
       "[1] Covariance matrix calculated using the outer product of gradients (complex-step).\n",
       "\"\"\""
      ]
     },
     "execution_count": 94,
     "metadata": {},
     "output_type": "execute_result"
    }
   ],
   "source": [
    "ar1 = ARIMA(train,order=(1,0,0))\n",
    "ar_m1 = ar1.fit()\n",
    "ar_m1.summary()"
   ]
  },
  {
   "cell_type": "code",
   "execution_count": 95,
   "id": "260d9172",
   "metadata": {},
   "outputs": [
    {
     "data": {
      "text/plain": [
       "(30, 1)"
      ]
     },
     "execution_count": 95,
     "metadata": {},
     "output_type": "execute_result"
    }
   ],
   "source": [
    "test.shape"
   ]
  },
  {
   "cell_type": "code",
   "execution_count": 96,
   "id": "caf3cd84",
   "metadata": {},
   "outputs": [
    {
     "data": {
      "text/plain": [
       "1958-07-01    429.630179\n",
       "1958-08-01    424.417056\n",
       "1958-09-01    419.356056\n",
       "1958-10-01    414.442742\n",
       "1958-11-01    409.672803\n",
       "1958-12-01    405.042056\n",
       "1959-01-01    400.546438\n",
       "1959-02-01    396.182007\n",
       "1959-03-01    391.944935\n",
       "1959-04-01    387.831505\n",
       "1959-05-01    383.838109\n",
       "1959-06-01    379.961244\n",
       "1959-07-01    376.197510\n",
       "1959-08-01    372.543605\n",
       "1959-09-01    368.996326\n",
       "1959-10-01    365.552559\n",
       "1959-11-01    362.209285\n",
       "1959-12-01    358.963571\n",
       "1960-01-01    355.812570\n",
       "1960-02-01    352.753519\n",
       "1960-03-01    349.783734\n",
       "1960-04-01    346.900610\n",
       "1960-05-01    344.101619\n",
       "1960-06-01    341.384305\n",
       "1960-07-01    338.746285\n",
       "1960-08-01    336.185245\n",
       "1960-09-01    333.698939\n",
       "1960-10-01    331.285186\n",
       "1960-11-01    328.941869\n",
       "1960-12-01    326.666931\n",
       "Freq: MS, Name: predicted_mean, dtype: float64"
      ]
     },
     "execution_count": 96,
     "metadata": {},
     "output_type": "execute_result"
    }
   ],
   "source": [
    "fcast_ar1 = ar_m1.forecast(test.shape[0])\n",
    "fcast_ar1"
   ]
  },
  {
   "cell_type": "code",
   "execution_count": 97,
   "id": "a446e7bf",
   "metadata": {},
   "outputs": [
    {
     "data": {
      "image/png": "[encoded data removed]",
      "text/plain": [
       "<Figure size 640x480 with 1 Axes>"
      ]
     },
     "metadata": {},
     "output_type": "display_data"
    }
   ],
   "source": [
    "plot_results(fcast_ar1)"
   ]
  },
  {
   "cell_type": "code",
   "execution_count": 98,
   "id": "d1fe67fa",
   "metadata": {},
   "outputs": [
    {
     "data": {
      "text/html": [
       "<div>\n",
       "<style scoped>\n",
       "    .dataframe tbody tr th:only-of-type {\n",
       "        vertical-align: middle;\n",
       "    }\n",
       "\n",
       "    .dataframe tbody tr th {\n",
       "        vertical-align: top;\n",
       "    }\n",
       "\n",
       "    .dataframe thead th {\n",
       "        text-align: right;\n",
       "    }\n",
       "</style>\n",
       "<table border=\"1\" class=\"dataframe\">\n",
       "  <thead>\n",
       "    <tr style=\"text-align: right;\">\n",
       "      <th></th>\n",
       "      <th>MAE</th>\n",
       "      <th>MSE</th>\n",
       "      <th>RMSE</th>\n",
       "    </tr>\n",
       "  </thead>\n",
       "  <tbody>\n",
       "    <tr>\n",
       "      <th>AR(1,0,0)</th>\n",
       "      <td>93.110466</td>\n",
       "      <td>13721.223716</td>\n",
       "      <td>117.137627</td>\n",
       "    </tr>\n",
       "  </tbody>\n",
       "</table>\n",
       "</div>"
      ],
      "text/plain": [
       "                 MAE           MSE        RMSE\n",
       "AR(1,0,0)  93.110466  13721.223716  117.137627"
      ]
     },
     "execution_count": 98,
     "metadata": {},
     "output_type": "execute_result"
    }
   ],
   "source": [
    "ar1_res = eval_model(test,fcast_ar1,'AR(1,0,0)')\n",
    "ar1_res"
   ]
  },
  {
   "cell_type": "code",
   "execution_count": 99,
   "id": "2bce90ae",
   "metadata": {},
   "outputs": [],
   "source": [
    "### MA(0,0,1)\n",
    "### ARMA(1,0,1)\n",
    "### ARIMA(1,1,1)"
   ]
  },
  {
   "cell_type": "markdown",
   "id": "5b292843",
   "metadata": {},
   "source": [
    "#### ARIMA(1,2,1)"
   ]
  },
  {
   "cell_type": "code",
   "execution_count": 100,
   "id": "e5d45efe",
   "metadata": {},
   "outputs": [
    {
     "data": {
      "text/html": [
       "<table class=\"simpletable\">\n",
       "<caption>SARIMAX Results</caption>\n",
       "<tr>\n",
       "  <th>Dep. Variable:</th>      <td>#Passengers</td>   <th>  No. Observations:  </th>    <td>114</td>  \n",
       "</tr>\n",
       "<tr>\n",
       "  <th>Model:</th>            <td>ARIMA(1, 2, 1)</td>  <th>  Log Likelihood     </th> <td>-524.560</td>\n",
       "</tr>\n",
       "<tr>\n",
       "  <th>Date:</th>            <td>Sat, 14 Oct 2023</td> <th>  AIC                </th> <td>1055.121</td>\n",
       "</tr>\n",
       "<tr>\n",
       "  <th>Time:</th>                <td>11:46:56</td>     <th>  BIC                </th> <td>1063.276</td>\n",
       "</tr>\n",
       "<tr>\n",
       "  <th>Sample:</th>             <td>01-01-1949</td>    <th>  HQIC               </th> <td>1058.430</td>\n",
       "</tr>\n",
       "<tr>\n",
       "  <th></th>                   <td>- 06-01-1958</td>   <th>                     </th>     <td> </td>   \n",
       "</tr>\n",
       "<tr>\n",
       "  <th>Covariance Type:</th>        <td>opg</td>       <th>                     </th>     <td> </td>   \n",
       "</tr>\n",
       "</table>\n",
       "<table class=\"simpletable\">\n",
       "<tr>\n",
       "     <td></td>       <th>coef</th>     <th>std err</th>      <th>z</th>      <th>P>|z|</th>  <th>[0.025</th>    <th>0.975]</th>  \n",
       "</tr>\n",
       "<tr>\n",
       "  <th>ar.L1</th>  <td>    0.2609</td> <td>    0.101</td> <td>    2.590</td> <td> 0.010</td> <td>    0.063</td> <td>    0.458</td>\n",
       "</tr>\n",
       "<tr>\n",
       "  <th>ma.L1</th>  <td>   -0.9995</td> <td>    2.925</td> <td>   -0.342</td> <td> 0.733</td> <td>   -6.732</td> <td>    4.733</td>\n",
       "</tr>\n",
       "<tr>\n",
       "  <th>sigma2</th> <td>  660.0951</td> <td> 1934.779</td> <td>    0.341</td> <td> 0.733</td> <td>-3132.002</td> <td> 4452.192</td>\n",
       "</tr>\n",
       "</table>\n",
       "<table class=\"simpletable\">\n",
       "<tr>\n",
       "  <th>Ljung-Box (L1) (Q):</th>     <td>0.24</td> <th>  Jarque-Bera (JB):  </th> <td>3.10</td>\n",
       "</tr>\n",
       "<tr>\n",
       "  <th>Prob(Q):</th>                <td>0.62</td> <th>  Prob(JB):          </th> <td>0.21</td>\n",
       "</tr>\n",
       "<tr>\n",
       "  <th>Heteroskedasticity (H):</th> <td>6.10</td> <th>  Skew:              </th> <td>0.40</td>\n",
       "</tr>\n",
       "<tr>\n",
       "  <th>Prob(H) (two-sided):</th>    <td>0.00</td> <th>  Kurtosis:          </th> <td>2.83</td>\n",
       "</tr>\n",
       "</table><br/><br/>Warnings:<br/>[1] Covariance matrix calculated using the outer product of gradients (complex-step)."
      ],
      "text/plain": [
       "<class 'statsmodels.iolib.summary.Summary'>\n",
       "\"\"\"\n",
       "                               SARIMAX Results                                \n",
       "==============================================================================\n",
       "Dep. Variable:            #Passengers   No. Observations:                  114\n",
       "Model:                 ARIMA(1, 2, 1)   Log Likelihood                -524.560\n",
       "Date:                Sat, 14 Oct 2023   AIC                           1055.121\n",
       "Time:                        11:46:56   BIC                           1063.276\n",
       "Sample:                    01-01-1949   HQIC                          1058.430\n",
       "                         - 06-01-1958                                         \n",
       "Covariance Type:                  opg                                         \n",
       "==============================================================================\n",
       "                 coef    std err          z      P>|z|      [0.025      0.975]\n",
       "------------------------------------------------------------------------------\n",
       "ar.L1          0.2609      0.101      2.590      0.010       0.063       0.458\n",
       "ma.L1         -0.9995      2.925     -0.342      0.733      -6.732       4.733\n",
       "sigma2       660.0951   1934.779      0.341      0.733   -3132.002    4452.192\n",
       "===================================================================================\n",
       "Ljung-Box (L1) (Q):                   0.24   Jarque-Bera (JB):                 3.10\n",
       "Prob(Q):                              0.62   Prob(JB):                         0.21\n",
       "Heteroskedasticity (H):               6.10   Skew:                             0.40\n",
       "Prob(H) (two-sided):                  0.00   Kurtosis:                         2.83\n",
       "===================================================================================\n",
       "\n",
       "Warnings:\n",
       "[1] Covariance matrix calculated using the outer product of gradients (complex-step).\n",
       "\"\"\""
      ]
     },
     "execution_count": 100,
     "metadata": {},
     "output_type": "execute_result"
    }
   ],
   "source": [
    "arima1 = ARIMA(train,order=(1,2,1))\n",
    "arima_m1 = arima1.fit()\n",
    "arima_m1.summary()"
   ]
  },
  {
   "cell_type": "code",
   "execution_count": 104,
   "id": "153111a4",
   "metadata": {},
   "outputs": [
    {
     "data": {
      "text/plain": [
       "(30, 1)"
      ]
     },
     "execution_count": 104,
     "metadata": {},
     "output_type": "execute_result"
    }
   ],
   "source": [
    "test.shape"
   ]
  },
  {
   "cell_type": "code",
   "execution_count": 101,
   "id": "e92515fc",
   "metadata": {},
   "outputs": [
    {
     "data": {
      "image/png": "[encoded data removed]",
      "text/plain": [
       "<Figure size 640x480 with 1 Axes>"
      ]
     },
     "metadata": {},
     "output_type": "display_data"
    }
   ],
   "source": [
    "fcast_arima1 = arima_m1.forecast(test.shape[0])\n",
    "plot_results(fcast_arima1)"
   ]
  },
  {
   "cell_type": "code",
   "execution_count": 102,
   "id": "7e1181e4",
   "metadata": {},
   "outputs": [
    {
     "data": {
      "text/html": [
       "<div>\n",
       "<style scoped>\n",
       "    .dataframe tbody tr th:only-of-type {\n",
       "        vertical-align: middle;\n",
       "    }\n",
       "\n",
       "    .dataframe tbody tr th {\n",
       "        vertical-align: top;\n",
       "    }\n",
       "\n",
       "    .dataframe thead th {\n",
       "        text-align: right;\n",
       "    }\n",
       "</style>\n",
       "<table border=\"1\" class=\"dataframe\">\n",
       "  <thead>\n",
       "    <tr style=\"text-align: right;\">\n",
       "      <th></th>\n",
       "      <th>MAE</th>\n",
       "      <th>MSE</th>\n",
       "      <th>RMSE</th>\n",
       "    </tr>\n",
       "  </thead>\n",
       "  <tbody>\n",
       "    <tr>\n",
       "      <th>ARIMA(1,2,1)</th>\n",
       "      <td>87.174794</td>\n",
       "      <td>9355.503474</td>\n",
       "      <td>96.723852</td>\n",
       "    </tr>\n",
       "  </tbody>\n",
       "</table>\n",
       "</div>"
      ],
      "text/plain": [
       "                    MAE          MSE       RMSE\n",
       "ARIMA(1,2,1)  87.174794  9355.503474  96.723852"
      ]
     },
     "execution_count": 102,
     "metadata": {},
     "output_type": "execute_result"
    }
   ],
   "source": [
    "arima1_res = eval_model(test,fcast_arima1,'ARIMA(1,2,1)')\n",
    "arima1_res"
   ]
  },
  {
   "cell_type": "code",
   "execution_count": 103,
   "id": "54a1225f",
   "metadata": {},
   "outputs": [
    {
     "data": {
      "text/html": [
       "<div>\n",
       "<style scoped>\n",
       "    .dataframe tbody tr th:only-of-type {\n",
       "        vertical-align: middle;\n",
       "    }\n",
       "\n",
       "    .dataframe tbody tr th {\n",
       "        vertical-align: top;\n",
       "    }\n",
       "\n",
       "    .dataframe thead th {\n",
       "        text-align: right;\n",
       "    }\n",
       "</style>\n",
       "<table border=\"1\" class=\"dataframe\">\n",
       "  <thead>\n",
       "    <tr style=\"text-align: right;\">\n",
       "      <th></th>\n",
       "      <th>MAE</th>\n",
       "      <th>MSE</th>\n",
       "      <th>RMSE</th>\n",
       "    </tr>\n",
       "  </thead>\n",
       "  <tbody>\n",
       "    <tr>\n",
       "      <th>AR(1,0,0)</th>\n",
       "      <td>93.110466</td>\n",
       "      <td>13721.223716</td>\n",
       "      <td>117.137627</td>\n",
       "    </tr>\n",
       "  </tbody>\n",
       "</table>\n",
       "</div>"
      ],
      "text/plain": [
       "                 MAE           MSE        RMSE\n",
       "AR(1,0,0)  93.110466  13721.223716  117.137627"
      ]
     },
     "execution_count": 103,
     "metadata": {},
     "output_type": "execute_result"
    }
   ],
   "source": [
    "ar1_res"
   ]
  },
  {
   "cell_type": "markdown",
   "id": "ec48ae08",
   "metadata": {},
   "source": [
    "### Custom ARIMA"
   ]
  },
  {
   "cell_type": "code",
   "execution_count": null,
   "id": "23179611",
   "metadata": {},
   "outputs": [],
   "source": [
    "p = [1,2,3,4,5]\n",
    "d = [1,2]\n",
    "q = [1,2,3,4,5]\n",
    "\n",
    "rmse_list = []\n",
    "pdq_list = []\n",
    "for i in p:\n",
    "    for j in d:\n",
    "        for k in q:\n",
    "            model = ARIMA(train,order=(i,j,k)).fit()\n",
    "            fcast = model.forecast(test.shape[0])\n",
    "            rmse = np.sqrt(mean_squared_error(test,fcast))\n",
    "            rmse_list.append(rmse)\n",
    "            pdq_list((i,j,k))"
   ]
  },
  {
   "cell_type": "code",
   "execution_count": null,
   "id": "31f88aa6",
   "metadata": {},
   "outputs": [],
   "source": [
    "print(min(rmse_list))\n",
    "min_rmse_index = rmse_list.index(min(rmse_list))\n",
    "print(min_rmse_index)\n",
    "print(pdq_list[min_rmse_index]) # => "
   ]
  },
  {
   "cell_type": "code",
   "execution_count": null,
   "id": "e9ee894d",
   "metadata": {},
   "outputs": [],
   "source": [
    "### Apply ARIMA (p,d,q) model from the p,d,q values obtained from above step"
   ]
  }
 ],
 "metadata": {
  "kernelspec": {
   "display_name": "Python 3 (ipykernel)",
   "language": "python",
   "name": "python3"
  },
  "language_info": {
   "codemirror_mode": {
    "name": "ipython",
    "version": 3
   },
   "file_extension": ".py",
   "mimetype": "text/x-python",
   "name": "python",
   "nbconvert_exporter": "python",
   "pygments_lexer": "ipython3",
   "version": "3.9.13"
  }
 },
 "nbformat": 4,
 "nbformat_minor": 5
}
